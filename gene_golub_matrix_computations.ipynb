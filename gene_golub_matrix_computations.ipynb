{
 "cells": [
  {
   "cell_type": "code",
   "execution_count": 17,
   "id": "4c515a09",
   "metadata": {},
   "outputs": [],
   "source": [
    "import numpy as np\n",
    "import time"
   ]
  },
  {
   "cell_type": "markdown",
   "id": "5b24a2dc",
   "metadata": {},
   "source": [
    "## P1.1.1\n",
    "\n",
    "Idk, I can only have a naive iterative solution."
   ]
  },
  {
   "cell_type": "markdown",
   "id": "b9b7d467",
   "metadata": {},
   "source": [
    "## P1.1.2 \n",
    "ok"
   ]
  },
  {
   "cell_type": "markdown",
   "id": "629e50c2",
   "metadata": {},
   "source": [
    "## P1.1.3\n",
    "\n",
    "Give an $O(n^2)$ algorithm for computing $C = (xy^T)^k$ where $x$ and $y$ are n-vectors.\n",
    "\n",
    "### Solution\n",
    "\n",
    "For $k = 4$, $xy^Txy^Txy^Txy^T = x(y^Tx)(y^Tx)(y^Tx)y^T = x (y^Tx)^{k-1}y^T$"
   ]
  },
  {
   "cell_type": "code",
   "execution_count": 13,
   "id": "0e71628c",
   "metadata": {},
   "outputs": [],
   "source": [
    "n = 5\n",
    "x = np.random.uniform(-2, 2, (n, 1))\n",
    "y = np.random.uniform(-2, 2, (n, 1))"
   ]
  },
  {
   "cell_type": "code",
   "execution_count": 14,
   "id": "2b856770",
   "metadata": {},
   "outputs": [
    {
     "name": "stdout",
     "output_type": "stream",
     "text": [
      "True\n"
     ]
    }
   ],
   "source": [
    "k = 10\n",
    "\n",
    "a = np.linalg.matrix_power(x @ y.T, k)\n",
    "b = (x @ (y.T @ x) ** (k - 1)) @ y.T\n",
    "print(np.all(np.isclose(a, b, 1e-16)))"
   ]
  },
  {
   "cell_type": "markdown",
   "id": "9f63a073",
   "metadata": {},
   "source": [
    "## P1.1.4\n",
    "Suppose $D = ABC$ where $A \\in R^{m\\times n}$, $B \\in R^{n\\times p}$, and $C \\in R^{p\\times q}$. Compare the flop count of an algorithm that computes $D$ via the formula $D = (AB)C$ versus the flop count for an algorithm that computes $D$ using D = $A(BC)$. Under what conditions is the former procedure more flop-efficient than the latter?\n",
    "\n",
    "### Solution\n",
    "For $D = (AB)C$, we get $f = 2mp(n + q)$.\\\n",
    "For $D = A(BC)$, we get $f = 2nq(m + p)$.\n"
   ]
  },
  {
   "cell_type": "code",
   "execution_count": 33,
   "id": "54512acb",
   "metadata": {},
   "outputs": [
    {
     "name": "stdout",
     "output_type": "stream",
     "text": [
      "(AB)C time = 2200000000\n",
      "A(BC) time = 22000000\n",
      "\n",
      "4.244797945022583\n",
      "0.20183897018432617\n",
      "21.03061634304857\n"
     ]
    }
   ],
   "source": [
    "m = 1000\n",
    "n = 10\n",
    "p = 10000\n",
    "q = 100\n",
    "\n",
    "print(f'(AB)C time = {2 * m * p * (n + q)}\\nA(BC) time = {2 * n * q * (m + p)}\\n')\n",
    "\n",
    "A = np.random.uniform(-2, 2, (m, n))\n",
    "B = np.random.uniform(-2, 2, (n, p))\n",
    "C = np.random.uniform(-2, 2, (p, q))\n",
    "\n",
    "nt = 20\n",
    "t = time.time()\n",
    "for i in range(nt):\n",
    "    D = (A @ B) @ C\n",
    "t1 = time.time() - t\n",
    "\n",
    "t = time.time()\n",
    "for i in range(nt):\n",
    "    D = A @ (B @ C)\n",
    "t2 = time.time() - t\n",
    "\n",
    "print(t1)\n",
    "print(t2)\n",
    "print(t1 / t2)  # will average to the correct flops ratio on larger nt or bigger matrices"
   ]
  },
  {
   "cell_type": "code",
   "execution_count": null,
   "id": "a4d74dcd",
   "metadata": {},
   "outputs": [],
   "source": []
  }
 ],
 "metadata": {
  "kernelspec": {
   "display_name": "Python 3",
   "language": "python",
   "name": "python3"
  },
  "language_info": {
   "codemirror_mode": {
    "name": "ipython",
    "version": 3
   },
   "file_extension": ".py",
   "mimetype": "text/x-python",
   "name": "python",
   "nbconvert_exporter": "python",
   "pygments_lexer": "ipython3",
   "version": "3.8.15"
  }
 },
 "nbformat": 4,
 "nbformat_minor": 5
}
