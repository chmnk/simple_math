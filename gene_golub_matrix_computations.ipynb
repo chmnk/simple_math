{
 "cells": [
  {
   "cell_type": "code",
   "execution_count": 2,
   "id": "4c515a09",
   "metadata": {
    "tags": []
   },
   "outputs": [],
   "source": [
    "import numpy as np\n",
    "import tqdm\n",
    "import time"
   ]
  },
  {
   "cell_type": "markdown",
   "id": "a0b73fa3-5397-464b-ac2a-a2722b519179",
   "metadata": {
    "tags": []
   },
   "source": [
    "# My solutions for the Gene Golub's textbook (4th edition)"
   ]
  },
  {
   "cell_type": "markdown",
   "id": "a1f131c8-52d2-4828-b88c-87244f72ae13",
   "metadata": {
    "tags": []
   },
   "source": [
    "## P1.1"
   ]
  },
  {
   "cell_type": "markdown",
   "id": "5b24a2dc",
   "metadata": {},
   "source": [
    "### P1.1.1\n",
    "\n",
    "Suppose $A \\in R^{n \\times n}$ and $x \\in R^r$ arc given. Give an algorithm for computing the first column of $M = (A - x_1I)\\ldots(A - x_rI)$.\n",
    "\n",
    "Idk, I can only do a naive iterative solution."
   ]
  },
  {
   "cell_type": "markdown",
   "id": "b9b7d467",
   "metadata": {},
   "source": [
    "### P1.1.2 \n",
    "(Solution is trivial, but I need to write it here)"
   ]
  },
  {
   "cell_type": "markdown",
   "id": "629e50c2",
   "metadata": {
    "jp-MarkdownHeadingCollapsed": true,
    "tags": []
   },
   "source": [
    "### P1.1.3\n",
    "\n",
    "Give an $O(n^2)$ algorithm for computing $C = (xy^T)^k$ where $x$ and $y$ are n-vectors."
   ]
  },
  {
   "cell_type": "markdown",
   "id": "30d05c71-4402-4eca-8102-44776a9fcb32",
   "metadata": {
    "tags": []
   },
   "source": [
    "#### Solution\n",
    "\n",
    "For $k = 4$, $xy^Txy^Txy^Txy^T = x(y^Tx)(y^Tx)(y^Tx)y^T = x (y^Tx)^{k-1}y^T$"
   ]
  },
  {
   "cell_type": "code",
   "execution_count": 3,
   "id": "0e71628c",
   "metadata": {
    "tags": []
   },
   "outputs": [],
   "source": [
    "n = 5\n",
    "x = np.random.uniform(-2, 2, (n, 1))\n",
    "y = np.random.uniform(-2, 2, (n, 1))"
   ]
  },
  {
   "cell_type": "code",
   "execution_count": 4,
   "id": "2b856770",
   "metadata": {
    "tags": []
   },
   "outputs": [
    {
     "name": "stdout",
     "output_type": "stream",
     "text": [
      "True\n"
     ]
    }
   ],
   "source": [
    "k = 10\n",
    "\n",
    "a = np.linalg.matrix_power(x @ y.T, k)\n",
    "b = (x @ (y.T @ x) ** (k - 1)) @ y.T\n",
    "print(np.all(np.isclose(a, b, 1e-16)))"
   ]
  },
  {
   "cell_type": "markdown",
   "id": "9f63a073",
   "metadata": {
    "jp-MarkdownHeadingCollapsed": true,
    "tags": []
   },
   "source": [
    "### P1.1.4\n",
    "Suppose $D = ABC$ where $A \\in R^{m\\times n}$, $B \\in R^{n\\times p}$, and $C \\in R^{p\\times q}$. Compare the flop count of an algorithm that computes $D$ via the formula $D = (AB)C$ versus the flop count for an algorithm that computes $D$ using D = $A(BC)$. Under what conditions is the former procedure more flop-efficient than the latter?"
   ]
  },
  {
   "cell_type": "markdown",
   "id": "ddc4c68c-c734-4024-a5d5-7e7859ce80ba",
   "metadata": {
    "tags": []
   },
   "source": [
    "#### Solution\n",
    "For $D = (AB)C$, we get $f = 2mp(n + q)$.\\\n",
    "For $D = A(BC)$, we get $f = 2nq(m + p)$."
   ]
  },
  {
   "cell_type": "code",
   "execution_count": 7,
   "id": "54512acb",
   "metadata": {
    "tags": []
   },
   "outputs": [
    {
     "name": "stdout",
     "output_type": "stream",
     "text": [
      "(AB)C time = 2200000000\n",
      "A(BC) time = 22000000\n",
      "\n",
      "2.974888563156128\n",
      "0.28615593910217285\n",
      "10.396039909183695\n"
     ]
    }
   ],
   "source": [
    "m = 1000\n",
    "n = 10\n",
    "p = 10000\n",
    "q = 100\n",
    "\n",
    "print(f'(AB)C time = {2 * m * p * (n + q)}\\nA(BC) time = {2 * n * q * (m + p)}\\n')\n",
    "\n",
    "A = np.random.uniform(-2, 2, (m, n))\n",
    "B = np.random.uniform(-2, 2, (n, p))\n",
    "C = np.random.uniform(-2, 2, (p, q))\n",
    "\n",
    "nt = 20\n",
    "t = time.time()\n",
    "for i in range(nt):\n",
    "    D = (A @ B) @ C\n",
    "t1 = time.time() - t\n",
    "\n",
    "t = time.time()\n",
    "for i in range(nt):\n",
    "    D = A @ (B @ C)\n",
    "t2 = time.time() - t\n",
    "\n",
    "print(t1)\n",
    "print(t2)\n",
    "print(t1 / t2)  # will average to the correct flops ratio on larger nt or bigger matrices"
   ]
  },
  {
   "cell_type": "markdown",
   "id": "3a1bb9ec-9226-4587-b21d-0147d9836d11",
   "metadata": {
    "jp-MarkdownHeadingCollapsed": true,
    "tags": []
   },
   "source": [
    "### P1.1.5 \n",
    "Suppose we have real n-by-n matrices $C, D, E$, and $F$. Show how to compute real n-by-n matrices $A$ and $B$ with **just three real n-by-n matrix multiplications** so that\\\n",
    "$A+ iB = (C + iD)(E + iF)$"
   ]
  },
  {
   "cell_type": "markdown",
   "id": "825919ec-71fd-497d-ad52-858c07c39403",
   "metadata": {
    "tags": []
   },
   "source": [
    "#### Solution\n",
    "1) 4 multiplications (naive)\\\n",
    "$A + iB = CE - DF + i(DE + CF)$\n",
    "\n",
    "2) 3 multiplications\\\n",
    "$A = (C - D) (E + F) - CF + DE$, $B = CF + DE$"
   ]
  },
  {
   "cell_type": "markdown",
   "id": "5d0b7556-2a7f-46d3-87be-09691cccc335",
   "metadata": {
    "jp-MarkdownHeadingCollapsed": true,
    "tags": []
   },
   "source": [
    "### P1.1.6\n",
    "\n",
    "Develop an $O(n^3)$ procedure for computing the n-by-n matrix $A$ defined by\n",
    "\n",
    "$a_{ij} = \\sum\\limits_{k_{1}=1}^{n}\\sum\\limits_{k_{2}=1}^{n}\\sum\\limits_{k_{3}=1}^{n} E(k_1, i)F(k_1, i)G(k_2, k_1)H(k_2, k_3)F(k_2, k_3)G(k_3,j)$"
   ]
  },
  {
   "cell_type": "markdown",
   "id": "87787bcb-e2a6-4a23-b767-20488ce6e97e",
   "metadata": {
    "tags": []
   },
   "source": [
    "#### Solution\n",
    "\n",
    "1) $U = E \\odot F$, $O(n^2)$\n",
    "2) $V = H \\odot F$, $O(n^2)$\n",
    "3) $S = VG$, $O(n^3)$\n",
    "4) $T = G^TS$, $O(n^3)$\n",
    "\n",
    "$\\sum_{k_1} \\sum_{k_2} \\sum_{k_3} U(k_1, i)G(k_2, k_1)V(k_2, k_3)G(k_3,j) =$\\\n",
    "$\\sum_{k_1} \\sum_{k_2} \\sum_{k_3} U(k_1, i)G^T(k_1, k_2)V(k_2, k_3)G(k_3,j) = $\\\n",
    "$\\sum_{k_1} \\sum_{k_2} U(k_1, i)G^T(k_1, k_2)\\sum_{k_3}V(k_2, k_3)G(k_3,j) = $\\\n",
    "$\\sum_{k_1} \\sum_{k_2} U(k_1, i)G^T(k_1, k_2)S(k_2,j) = $\\\n",
    "$\\sum_{k_1} U^T(i, k_1)T(k_1,j) = $\n",
    "$U^TT = (E \\odot F)^TG^T(H \\odot F)G$\n"
   ]
  }
 ],
 "metadata": {
  "kernelspec": {
   "display_name": "Python 3 (ipykernel)",
   "language": "python",
   "name": "python3"
  },
  "language_info": {
   "codemirror_mode": {
    "name": "ipython",
    "version": 3
   },
   "file_extension": ".py",
   "mimetype": "text/x-python",
   "name": "python",
   "nbconvert_exporter": "python",
   "pygments_lexer": "ipython3",
   "version": "3.10.9"
  }
 },
 "nbformat": 4,
 "nbformat_minor": 5
}
