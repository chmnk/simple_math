{
 "cells": [
  {
   "cell_type": "code",
   "execution_count": 44,
   "id": "43e06903",
   "metadata": {},
   "outputs": [],
   "source": [
    "import torch\n",
    "import numpy as np\n",
    "import matplotlib.pyplot as plt"
   ]
  },
  {
   "cell_type": "code",
   "execution_count": 45,
   "id": "03c9c19f",
   "metadata": {},
   "outputs": [],
   "source": [
    "from scipy.sparse import csr_matrix\n",
    "from scipy.sparse.csgraph import connected_components"
   ]
  },
  {
   "cell_type": "code",
   "execution_count": 51,
   "id": "98d32775",
   "metadata": {},
   "outputs": [
    {
     "data": {
      "text/plain": [
       "torch.Size([2, 400])"
      ]
     },
     "execution_count": 51,
     "metadata": {},
     "output_type": "execute_result"
    }
   ],
   "source": [
    "xgrid, ygrid = torch.meshgrid(torch.arange(0, 10, 0.5), torch.arange(0, 10, 0.5))\n",
    "grid = torch.cat((xgrid.flatten().unsqueeze(0), ygrid.flatten().unsqueeze(0)), dim=0)\n",
    "grid.shape"
   ]
  },
  {
   "cell_type": "code",
   "execution_count": null,
   "id": "48b312c6",
   "metadata": {},
   "outputs": [],
   "source": []
  },
  {
   "cell_type": "code",
   "execution_count": 62,
   "id": "ae6ce7fd",
   "metadata": {},
   "outputs": [],
   "source": [
    "crds0 = torch.rand((4, 2)) * 19\n",
    "crds = crds0.clone()"
   ]
  },
  {
   "cell_type": "code",
   "execution_count": 63,
   "id": "368030d0",
   "metadata": {},
   "outputs": [],
   "source": [
    "crds = crds0.clone()"
   ]
  },
  {
   "cell_type": "code",
   "execution_count": 64,
   "id": "0902ab48",
   "metadata": {},
   "outputs": [],
   "source": [
    "for i in range(3):\n",
    "    crds = torch.cat((crds, crds0 + torch.normal(0.8, 0.8, (4, 2)) * torch.sign(torch.randint(-1, 1, (4,2)))) , dim=0)"
   ]
  },
  {
   "cell_type": "code",
   "execution_count": 65,
   "id": "dd5aeda8",
   "metadata": {},
   "outputs": [],
   "source": [
    "crd_around = grid.T[torch.any(torch.cdist(grid.T, crds) < 1.5, dim=1)]\n",
    "crd_around_idx = torch.nonzero(torch.any(torch.cdist(grid.T, crds) < 1.5, dim=1))\n",
    "A = (torch.cdist(crd_around, crd_around, p=1) <= 1.0).double()"
   ]
  },
  {
   "cell_type": "code",
   "execution_count": 83,
   "id": "28ddd129",
   "metadata": {},
   "outputs": [],
   "source": [
    "labels = torch.zeros(grid.shape[1])\n",
    "labels[crd_around_idx] = 1\n",
    "# print(torch.all(crd_around_idx == torch.nonzero(labels)))"
   ]
  },
  {
   "cell_type": "code",
   "execution_count": 89,
   "id": "31b6bc94",
   "metadata": {},
   "outputs": [
    {
     "data": {
      "text/plain": [
       "array([0, 0, 0, 0, 0, 0, 0, 0, 1, 1, 1, 1, 1, 1, 1, 1, 1, 1, 1, 1, 1, 1,\n",
       "       2, 2, 2, 1, 1, 2, 2, 2, 2, 2, 2, 2, 2, 2, 2, 2, 2, 3, 3, 3, 3, 3,\n",
       "       3], dtype=int32)"
      ]
     },
     "execution_count": 89,
     "metadata": {},
     "output_type": "execute_result"
    }
   ],
   "source": [
    "n_components, labeled_components = connected_components(csgraph=csr_matrix(A), directed=False, return_labels=True)\n",
    "labeled_components\n"
   ]
  },
  {
   "cell_type": "code",
   "execution_count": 90,
   "id": "9326ce49",
   "metadata": {},
   "outputs": [],
   "source": [
    "labels_unique, labels_count = torch.unique(torch.tensor(labeled_components), return_counts=True)\n",
    "labels_count_good = (labels_count > 10)"
   ]
  },
  {
   "cell_type": "code",
   "execution_count": 72,
   "id": "2d14ce43",
   "metadata": {},
   "outputs": [
    {
     "data": {
      "text/plain": [
       "torch.Size([4])"
      ]
     },
     "execution_count": 72,
     "metadata": {},
     "output_type": "execute_result"
    }
   ],
   "source": [
    "labels_count_good.shape"
   ]
  },
  {
   "cell_type": "code",
   "execution_count": 91,
   "id": "8b0e8236",
   "metadata": {},
   "outputs": [],
   "source": [
    "crd_around_cleaned = grid.T[crd_around_idx[labels_count_good[labeled_components]].squeeze()]"
   ]
  },
  {
   "cell_type": "code",
   "execution_count": 92,
   "id": "24386d7d",
   "metadata": {},
   "outputs": [],
   "source": [
    "labels_cleaned = torch.zeros(grid.shape[1])\n",
    "labels_cleaned[crd_around_idx[labels_count_good[labeled_components]]] = 1."
   ]
  },
  {
   "cell_type": "code",
   "execution_count": 93,
   "id": "f3e4b2bb",
   "metadata": {},
   "outputs": [
    {
     "data": {
      "text/plain": [
       "tensor([[143],\n",
       "        [144],\n",
       "        [145],\n",
       "        [146],\n",
       "        [147],\n",
       "        [163],\n",
       "        [164],\n",
       "        [165],\n",
       "        [166],\n",
       "        [167],\n",
       "        [184],\n",
       "        [185],\n",
       "        [186],\n",
       "        [187],\n",
       "        [192],\n",
       "        [193],\n",
       "        [194],\n",
       "        [204],\n",
       "        [205],\n",
       "        [211],\n",
       "        [212],\n",
       "        [213],\n",
       "        [214],\n",
       "        [231],\n",
       "        [232],\n",
       "        [233],\n",
       "        [234],\n",
       "        [251],\n",
       "        [252],\n",
       "        [253],\n",
       "        [254]])"
      ]
     },
     "execution_count": 93,
     "metadata": {},
     "output_type": "execute_result"
    }
   ],
   "source": [
    "crd_around_idx[labels_count_good[labeled_components]]"
   ]
  },
  {
   "cell_type": "code",
   "execution_count": 75,
   "id": "4600c707",
   "metadata": {},
   "outputs": [],
   "source": [
    "# crd_around_cleaned"
   ]
  },
  {
   "cell_type": "code",
   "execution_count": 82,
   "id": "e7a4b97d",
   "metadata": {},
   "outputs": [
    {
     "data": {
      "image/png": "[encoded data removed]",
      "text/plain": [
       "<Figure size 576x576 with 1 Axes>"
      ]
     },
     "metadata": {
      "needs_background": "light"
     },
     "output_type": "display_data"
    }
   ],
   "source": [
    "plt.scatter(grid[0], grid[1], s=5)\n",
    "plt.scatter(grid[0], grid[1], s=5, c=labels_cleaned)\n",
    "plt.scatter(crds[:, 0], crds[:, 1], s=100)\n",
    "plt.scatter(crd_around[:, 0], crd_around[:, 1])\n",
    "# # plt.scatter(crd_around[:, 0], crd_around[:, 1], c=labels)\n",
    "plt.scatter(crd_around_cleaned[:, 0], crd_around_cleaned[:, 1])\n",
    "# plt.gca().set_box_aspect(1)\n",
    "plt.gcf().set_size_inches(8, 8)\n"
   ]
  },
  {
   "cell_type": "code",
   "execution_count": null,
   "id": "ab4c6584",
   "metadata": {},
   "outputs": [],
   "source": []
  },
  {
   "cell_type": "code",
   "execution_count": 85,
   "id": "e0c85792",
   "metadata": {},
   "outputs": [
    {
     "data": {
      "text/plain": [
       "tensor([[0, 1, 1],\n",
       "        [0, 1, 1],\n",
       "        [1, 1, 0]])"
      ]
     },
     "execution_count": 85,
     "metadata": {},
     "output_type": "execute_result"
    }
   ],
   "source": [
    "labels_ = torch.randint(2, (3,3))\n",
    "labels_"
   ]
  },
  {
   "cell_type": "code",
   "execution_count": 86,
   "id": "59bd2856",
   "metadata": {},
   "outputs": [
    {
     "data": {
      "text/plain": [
       "tensor([0, 1, 1, 0, 1, 1, 1, 1, 0])"
      ]
     },
     "execution_count": 86,
     "metadata": {},
     "output_type": "execute_result"
    }
   ],
   "source": [
    "labels_ = labels_.view(-1) + 3"
   ]
  }
 ],
 "metadata": {
  "kernelspec": {
   "display_name": "Python 3 (ipykernel)",
   "language": "python",
   "name": "python3"
  },
  "language_info": {
   "codemirror_mode": {
    "name": "ipython",
    "version": 3
   },
   "file_extension": ".py",
   "mimetype": "text/x-python",
   "name": "python",
   "nbconvert_exporter": "python",
   "pygments_lexer": "ipython3",
   "version": "3.8.12"
  }
 },
 "nbformat": 4,
 "nbformat_minor": 5
}
