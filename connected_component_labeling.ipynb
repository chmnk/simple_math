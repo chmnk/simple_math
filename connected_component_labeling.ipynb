{
 "cells": [
  {
   "cell_type": "code",
   "execution_count": 3,
   "id": "62b7f2a0",
   "metadata": {},
   "outputs": [],
   "source": [
    "import torch\n",
    "import numpy as np\n",
    "import matplotlib.pyplot as plt"
   ]
  },
  {
   "cell_type": "code",
   "execution_count": 6,
   "id": "9ff64121",
   "metadata": {},
   "outputs": [],
   "source": [
    "from scipy.sparse import csr_matrix\n",
    "from scipy.sparse.csgraph import connected_components"
   ]
  },
  {
   "cell_type": "code",
   "execution_count": 18,
   "id": "fba50e81",
   "metadata": {},
   "outputs": [
    {
     "data": {
      "text/plain": [
       "torch.Size([2, 400])"
      ]
     },
     "execution_count": 18,
     "metadata": {},
     "output_type": "execute_result"
    }
   ],
   "source": [
    "xgrid, ygrid = torch.meshgrid(torch.arange(0, 10, 0.5), torch.arange(0, 10, 0.5))\n",
    "grid = torch.cat((xgrid.flatten().unsqueeze(0), ygrid.flatten().unsqueeze(0)), dim=0)\n",
    "grid.shape"
   ]
  },
  {
   "cell_type": "code",
   "execution_count": 29,
   "id": "0354a613",
   "metadata": {},
   "outputs": [],
   "source": [
    "crds0 = torch.rand((4, 2)) * 8\n",
    "crds = crds0.clone()"
   ]
  },
  {
   "cell_type": "code",
   "execution_count": 30,
   "id": "1d93683a",
   "metadata": {},
   "outputs": [],
   "source": [
    "crds = crds0.clone()"
   ]
  },
  {
   "cell_type": "code",
   "execution_count": 31,
   "id": "078fe5ed",
   "metadata": {},
   "outputs": [],
   "source": [
    "for i in range(3):\n",
    "    crds = torch.cat((crds, crds0 + torch.normal(0.4, 0.4, (4, 2)) * torch.sign(torch.randint(-1, 1, (4,2)))) , dim=0)"
   ]
  },
  {
   "cell_type": "code",
   "execution_count": 32,
   "id": "e630c65d",
   "metadata": {},
   "outputs": [],
   "source": [
    "crd_around = grid.T[torch.any(torch.cdist(grid.T, crds) < 0.75, dim=1)]\n",
    "crd_around_idx = torch.nonzero(torch.any(torch.cdist(grid.T, crds) < 0.75, dim=1))\n",
    "A = (torch.cdist(crd_around, crd_around, p=1) <= 0.5).double()"
   ]
  },
  {
   "cell_type": "code",
   "execution_count": 33,
   "id": "cf45c693",
   "metadata": {},
   "outputs": [],
   "source": [
    "# labels = torch.zeros(grid.shape[1])\n",
    "# labels[crd_around_idx] = 1\n",
    "# print(torch.all(crd_around_idx == torch.nonzero(labels)))"
   ]
  },
  {
   "cell_type": "code",
   "execution_count": 34,
   "id": "d350fbbc",
   "metadata": {},
   "outputs": [
    {
     "data": {
      "text/plain": [
       "array([0, 0, 0, 0, 0, 0, 0, 0, 1, 1, 1, 1, 1, 1, 1, 1, 1, 2, 1, 1, 1, 2,\n",
       "       2, 2, 2, 1, 1, 1, 2, 2, 2, 2, 2, 2, 2, 3, 3, 3, 3, 3, 3],\n",
       "      dtype=int32)"
      ]
     },
     "execution_count": 34,
     "metadata": {},
     "output_type": "execute_result"
    }
   ],
   "source": [
    "n_components, labels = connected_components(csgraph=csr_matrix(A), directed=False, return_labels=True)\n",
    "labels\n"
   ]
  },
  {
   "cell_type": "code",
   "execution_count": 35,
   "id": "eab3d1f9",
   "metadata": {},
   "outputs": [],
   "source": [
    "labels_unique, labels_count = torch.unique(torch.tensor(labels), return_counts=True)\n",
    "labels_count_good = (labels_count > 10)"
   ]
  },
  {
   "cell_type": "code",
   "execution_count": 36,
   "id": "86c5bcaf",
   "metadata": {},
   "outputs": [],
   "source": [
    "crd_around_cleaned = grid.T[crd_around_idx[labels_count_good[labels]].squeeze()]"
   ]
  },
  {
   "cell_type": "code",
   "execution_count": 37,
   "id": "b07fa995",
   "metadata": {},
   "outputs": [
    {
     "data": {
      "text/plain": [
       "torch.Size([27, 2])"
      ]
     },
     "execution_count": 37,
     "metadata": {},
     "output_type": "execute_result"
    }
   ],
   "source": [
    "crd_around_cleaned.shape"
   ]
  },
  {
   "cell_type": "code",
   "execution_count": 38,
   "id": "10ca108d",
   "metadata": {},
   "outputs": [
    {
     "data": {
      "image/png": "[encoded data removed]",
      "text/plain": [
       "<Figure size 576x576 with 1 Axes>"
      ]
     },
     "metadata": {
      "needs_background": "light"
     },
     "output_type": "display_data"
    }
   ],
   "source": [
    "plt.scatter(grid[0], grid[1], s=5)\n",
    "plt.scatter(crds[:, 0], crds[:, 1], s=100)\n",
    "plt.scatter(crd_around[:, 0], crd_around[:, 1])\n",
    "# plt.scatter(crd_around[:, 0], crd_around[:, 1], c=labels)\n",
    "plt.scatter(crd_around_cleaned[:, 0], crd_around_cleaned[:, 1])\n",
    "plt.gca().set_box_aspect(1)\n",
    "plt.gcf().set_size_inches(8, 8)\n"
   ]
  },
  {
   "cell_type": "code",
   "execution_count": null,
   "id": "87df6118",
   "metadata": {},
   "outputs": [],
   "source": []
  }
 ],
 "metadata": {
  "kernelspec": {
   "display_name": "Python 3 (ipykernel)",
   "language": "python",
   "name": "python3"
  },
  "language_info": {
   "codemirror_mode": {
    "name": "ipython",
    "version": 3
   },
   "file_extension": ".py",
   "mimetype": "text/x-python",
   "name": "python",
   "nbconvert_exporter": "python",
   "pygments_lexer": "ipython3",
   "version": "3.8.12"
  }
 },
 "nbformat": 4,
 "nbformat_minor": 5
}
