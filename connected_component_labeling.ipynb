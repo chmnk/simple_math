{
 "cells": [
  {
   "cell_type": "code",
   "execution_count": 111,
   "id": "cffe263e",
   "metadata": {},
   "outputs": [],
   "source": [
    "import torch\n",
    "import numpy as np\n",
    "import matplotlib.pyplot as plt"
   ]
  },
  {
   "cell_type": "code",
   "execution_count": 112,
   "id": "4469cdd5",
   "metadata": {},
   "outputs": [],
   "source": [
    "from scipy.sparse import csr_matrix\n",
    "from scipy.sparse.csgraph import connected_components"
   ]
  },
  {
   "cell_type": "code",
   "execution_count": 132,
   "id": "1b1eddd7",
   "metadata": {},
   "outputs": [
    {
     "data": {
      "text/plain": [
       "torch.Size([2, 400])"
      ]
     },
     "execution_count": 132,
     "metadata": {},
     "output_type": "execute_result"
    }
   ],
   "source": [
    "\n",
    "xgrid, ygrid = torch.meshgrid(torch.arange(0, 20, 1.), torch.arange(0, 20, 1.))\n",
    "grid = torch.cat((xgrid.flatten().unsqueeze(0), ygrid.flatten().unsqueeze(0)), dim=0)\n",
    "grid.shape"
   ]
  },
  {
   "cell_type": "code",
   "execution_count": null,
   "id": "c0377c6b",
   "metadata": {},
   "outputs": [],
   "source": []
  },
  {
   "cell_type": "code",
   "execution_count": 148,
   "id": "636046ed",
   "metadata": {},
   "outputs": [],
   "source": [
    "crds0 = torch.rand((4, 2)) * 19\n",
    "crds = crds0.clone()"
   ]
  },
  {
   "cell_type": "code",
   "execution_count": 149,
   "id": "d71c9f12",
   "metadata": {},
   "outputs": [],
   "source": [
    "crds = crds0.clone()"
   ]
  },
  {
   "cell_type": "code",
   "execution_count": 150,
   "id": "0239cbc6",
   "metadata": {},
   "outputs": [],
   "source": [
    "for i in range(3):\n",
    "    crds = torch.cat((crds, crds0 + torch.normal(0.8, 0.8, (4, 2)) * torch.sign(torch.randint(-1, 1, (4,2)))) , dim=0)"
   ]
  },
  {
   "cell_type": "code",
   "execution_count": 205,
   "id": "baa05257",
   "metadata": {},
   "outputs": [],
   "source": [
    "crd_around = grid.T[torch.any(torch.cdist(grid.T, crds) < 1.5, dim=1)]\n",
    "crd_around_idx = torch.nonzero(torch.any(torch.cdist(grid.T, crds) < 1.5, dim=1))\n",
    "A = (torch.cdist(crd_around, crd_around, p=1) <= 1.0).double()"
   ]
  },
  {
   "cell_type": "code",
   "execution_count": 237,
   "id": "6f136c45",
   "metadata": {},
   "outputs": [],
   "source": [
    "cdist_vals = torch.cdist(grid.T, crds)\n",
    "mask_values = np.zeros(400)\n",
    "crd_around_halo = grid.T[torch.any(cdist_vals < 2.8, dim=1)]\n",
    "crd_around_halo_vals = torch.amin(cdist_vals, 1)[torch.any(cdist_vals < 2.8, dim=1)]\n",
    "crd_around_halo_idx = torch.nonzero(torch.any(torch.cdist(grid.T, crds) < 2.8, dim=1))\n",
    "# mask_values.shape, crd_around_halo_idx.shape\n",
    "mask_values[crd_around_halo_idx[:, 0]] = crd_around_halo_vals\n",
    "mask_values[crd_around_idx] = 1.\n",
    "A_halo = (torch.cdist(crd_around_halo, crd_around_halo, p=1) <= 1.0).double()\n",
    "crd_around_halo_vals[crd_around_halo_vals < 1.5] = 1."
   ]
  },
  {
   "cell_type": "code",
   "execution_count": 152,
   "id": "ba92ddcc",
   "metadata": {},
   "outputs": [],
   "source": [
    "labels = torch.zeros(grid.shape[1])\n",
    "labels[crd_around_idx] = 1\n",
    "# print(torch.all(crd_around_idx == torch.nonzero(labels)))"
   ]
  },
  {
   "cell_type": "markdown",
   "id": "f67395cd",
   "metadata": {},
   "source": [
    "Connected components for the simple case when all positive labels = 1"
   ]
  },
  {
   "cell_type": "code",
   "execution_count": 231,
   "id": "6c641d8c",
   "metadata": {},
   "outputs": [
    {
     "name": "stdout",
     "output_type": "stream",
     "text": [
      "[0 0 0 0 0 0 0 0 0 0 0 0 1 1 2 2 1 1 1 2 2 2 1 1 1 1 2 2 2 3 3 1 1 1 2 2 3\n",
      " 3 3 3 3]\n",
      "torch.Size([4])\n"
     ]
    }
   ],
   "source": [
    "n_components, labeled_components = connected_components(csgraph=csr_matrix(A), directed=False, return_labels=True)\n",
    "print(labeled_components)\n",
    "labels_unique, labels_count = torch.unique(torch.tensor(labeled_components), return_counts=True)\n",
    "labels_count_good = (labels_count > 10)\n",
    "print(labels_count_good.shape)\n",
    "crd_around_cleaned = grid.T[crd_around_idx[labels_count_good[labeled_components]].squeeze()]\n",
    "labels_cleaned = torch.zeros(grid.shape[1])\n",
    "labels_cleaned[crd_around_idx[labels_count_good[labeled_components]]] = 1."
   ]
  },
  {
   "cell_type": "markdown",
   "id": "41f5a3a2",
   "metadata": {},
   "source": [
    "Connected components for the case when all positive 0 < labels <= 1, and only those equal to 1 are weighting the component."
   ]
  },
  {
   "cell_type": "code",
   "execution_count": 243,
   "id": "3c8d2db7",
   "metadata": {},
   "outputs": [
    {
     "name": "stdout",
     "output_type": "stream",
     "text": [
      "[0 0 0 0 0 0 0 0 0 0 0 0 0 0 0 0 0 0 0 0 0 0 0 0 0 0 0 0 0 0 1 1 1 2 2 2 2\n",
      " 1 1 1 1 2 2 2 2 2 2 3 3 1 1 1 1 1 2 2 2 2 2 2 3 3 3 3 1 1 1 1 1 2 2 2 2 2\n",
      " 2 3 3 3 3 3 3 1 1 1 1 1 2 2 2 2 2 2 3 3 3 3 3 3 1 1 1 1 2 2 2 2 3 3 3 3 3\n",
      " 3 3 3 3 3 3 3]\n",
      "[0 0 0 0 0 0 0 0 0 0 0 0 1 1 2 2 1 1 1 2 2 2 1 1 1 1 2 2 2 3 3 1 1 1 2 2 3\n",
      " 3 3 3 3]\n",
      "tensor([0, 1, 2, 3], dtype=torch.int32) tensor([12, 12, 10,  7])\n",
      "torch.Size([4])\n"
     ]
    }
   ],
   "source": [
    "n_components, labeled_components = connected_components(csgraph=csr_matrix(A_halo), directed=False, return_labels=True)\n",
    "print(labeled_components)\n",
    "print(labeled_components[crd_around_halo_vals == 1])\n",
    "labels_unique, labels_count = torch.unique(torch.tensor(labeled_components[crd_around_halo_vals == 1]), return_counts=True)\n",
    "print(labels_unique, labels_count)\n",
    "labels_count_good = (labels_count > 10)\n",
    "print(labels_count_good.shape)\n",
    "crd_around_cleaned = grid.T[crd_around_halo_idx[labels_count_good[labeled_components]].squeeze()]\n",
    "labels_cleaned = torch.zeros(grid.shape[1])\n",
    "labels_cleaned[crd_around_halo_idx[labels_count_good[labeled_components]]] = 1."
   ]
  },
  {
   "cell_type": "code",
   "execution_count": 158,
   "id": "8529a0a4",
   "metadata": {},
   "outputs": [],
   "source": [
    "# crd_around_idx[labels_count_good[labeled_components]]"
   ]
  },
  {
   "cell_type": "code",
   "execution_count": 159,
   "id": "52809df5",
   "metadata": {},
   "outputs": [],
   "source": [
    "# crd_around_cleaned"
   ]
  },
  {
   "cell_type": "code",
   "execution_count": 245,
   "id": "cc1ec649",
   "metadata": {},
   "outputs": [
    {
     "data": {
      "image/png": "[encoded data removed]",
      "text/plain": [
       "<Figure size 576x576 with 1 Axes>"
      ]
     },
     "metadata": {
      "needs_background": "light"
     },
     "output_type": "display_data"
    }
   ],
   "source": [
    "plt.scatter(grid[0], grid[1], s=5)\n",
    "# plt.scatter(grid[0], grid[1], s=5, c=labels_cleaned)\n",
    "plt.scatter(crds[:, 0], crds[:, 1], s=100)\n",
    "plt.scatter(crd_around[:, 0], crd_around[:, 1])\n",
    "plt.scatter(crd_around_halo[:, 0], crd_around_halo[:, 1], c=crd_around_halo_vals, cmap='Greens')\n",
    "mask_val_sele = (mask_values > 0)\n",
    "plt.scatter(grid[0, mask_val_sele], grid[1, mask_val_sele], c=mask_values[mask_val_sele], cmap='Greens')\n",
    "# # # plt.scatter(crd_around[:, 0], crd_around[:, 1], c=labels)\n",
    "plt.scatter(crd_around_cleaned[:, 0], crd_around_cleaned[:, 1])\n",
    "plt.gca().set_box_aspect(1)\n",
    "plt.gcf().set_size_inches(8, 8)\n"
   ]
  },
  {
   "cell_type": "code",
   "execution_count": null,
   "id": "ec9c8bf5",
   "metadata": {},
   "outputs": [],
   "source": []
  },
  {
   "cell_type": "code",
   "execution_count": 85,
   "id": "bb0afb3a",
   "metadata": {},
   "outputs": [
    {
     "data": {
      "text/plain": [
       "tensor([[0, 1, 1],\n",
       "        [0, 1, 1],\n",
       "        [1, 1, 0]])"
      ]
     },
     "execution_count": 85,
     "metadata": {},
     "output_type": "execute_result"
    }
   ],
   "source": [
    "labels_ = torch.randint(2, (3,3))\n",
    "labels_"
   ]
  },
  {
   "cell_type": "code",
   "execution_count": 86,
   "id": "74168d56",
   "metadata": {},
   "outputs": [
    {
     "data": {
      "text/plain": [
       "tensor([0, 1, 1, 0, 1, 1, 1, 1, 0])"
      ]
     },
     "execution_count": 86,
     "metadata": {},
     "output_type": "execute_result"
    }
   ],
   "source": [
    "labels_ = labels_.view(-1) + 3"
   ]
  }
 ],
 "metadata": {
  "kernelspec": {
   "display_name": "Python 3 (ipykernel)",
   "language": "python",
   "name": "python3"
  },
  "language_info": {
   "codemirror_mode": {
    "name": "ipython",
    "version": 3
   },
   "file_extension": ".py",
   "mimetype": "text/x-python",
   "name": "python",
   "nbconvert_exporter": "python",
   "pygments_lexer": "ipython3",
   "version": "3.8.12"
  }
 },
 "nbformat": 4,
 "nbformat_minor": 5
}
